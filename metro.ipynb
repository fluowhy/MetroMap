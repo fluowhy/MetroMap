{
 "cells": [
  {
   "cell_type": "code",
   "execution_count": 1,
   "metadata": {},
   "outputs": [],
   "source": [
    "from ipyleaflet import Map, Circle, Polyline\n",
    "import unidecode\n",
    "import numpy as np\n",
    "from utils import *\n",
    "from scipy.spatial import Voronoi, voronoi_plot_2d\n",
    "import matplotlib.pyplot as plt"
   ]
  },
  {
   "cell_type": "code",
   "execution_count": 2,
   "metadata": {},
   "outputs": [],
   "source": [
    "%matplotlib notebook"
   ]
  },
  {
   "cell_type": "code",
   "execution_count": 3,
   "metadata": {},
   "outputs": [],
   "source": [
    "def draw_circle(mapp, coord, color, r=100, zoom=10):\n",
    "    \"\"\"\n",
    "    corrd: list, [lat, lon]\n",
    "    \"\"\"\n",
    "    circle = Circle()\n",
    "    circle.location = (coord[0], coord[1])\n",
    "    circle.radius = int(r/zoom)\n",
    "    circle.color = color\n",
    "    circle.fill_color = color\n",
    "    mapp.add_layer(circle)\n",
    "    return\n",
    "\n",
    "\n",
    "def draw_line(mapp, p1, p2, lw=10, zoom=10):\n",
    "    \"\"\"\n",
    "    p1: list, [x, y]\n",
    "    \"\"\"\n",
    "    line = Polyline(\n",
    "    locations = [\n",
    "    [p1[1], p1[0]],\n",
    "    [p2[1], p2[0]]\n",
    "    ],\n",
    "    color = \"black\",\n",
    "    weight = int(lw/zoom)\n",
    "        )\n",
    "    mapp.add_layer(line)\n",
    "    return"
   ]
  },
  {
   "cell_type": "code",
   "execution_count": 4,
   "metadata": {},
   "outputs": [],
   "source": [
    "stations = read_json(\"stations.json\")"
   ]
  },
  {
   "cell_type": "code",
   "execution_count": 5,
   "metadata": {},
   "outputs": [],
   "source": [
    "lat = -33.4569400\n",
    "lon = -70.6482700\n",
    "zoom = 10\n",
    "r = 100 # meters\n",
    "m = Map(center=[lat, lon], zoom=zoom)"
   ]
  },
  {
   "cell_type": "code",
   "execution_count": 6,
   "metadata": {},
   "outputs": [],
   "source": [
    "draw_circle(m, [lat, lon], \"green\")\n",
    "P = np.zeros((len(stations), 2))\n",
    "for i, sta in enumerate(stations):\n",
    "    P[i] = [sta[\"lon\"], sta[\"lat\"]]\n",
    "    draw_circle(m, [sta[\"lat\"], sta[\"lon\"]], \"black\")"
   ]
  },
  {
   "cell_type": "code",
   "execution_count": 7,
   "metadata": {},
   "outputs": [],
   "source": [
    "vor = Voronoi(P)\n",
    "\n",
    "ver = vor.vertices\n",
    "Points = []\n",
    "for i in vor.ridge_vertices:\n",
    "    if not - 1 in i:\n",
    "        p1 = ver[i[0]]\n",
    "        p2 = ver[i[1]]\n",
    "        Points.append([list(p1), list(p2)])\n",
    "Points = np.array(Points)"
   ]
  },
  {
   "cell_type": "code",
   "execution_count": 8,
   "metadata": {},
   "outputs": [],
   "source": [
    "for i in Points:\n",
    "    draw_line(m, i[0], i[1])"
   ]
  },
  {
   "cell_type": "code",
   "execution_count": 9,
   "metadata": {},
   "outputs": [
    {
     "data": {
      "application/vnd.jupyter.widget-view+json": {
       "model_id": "2372b066484d4a16b476a0f4f369ba91",
       "version_major": 2,
       "version_minor": 0
      },
      "text/plain": [
       "Map(basemap={'url': 'https://{s}.tile.openstreetmap.org/{z}/{x}/{y}.png', 'max_zoom': 19, 'attribution': 'Map …"
      ]
     },
     "metadata": {},
     "output_type": "display_data"
    }
   ],
   "source": [
    "m"
   ]
  },
  {
   "cell_type": "code",
   "execution_count": null,
   "metadata": {},
   "outputs": [],
   "source": []
  }
 ],
 "metadata": {
  "kernelspec": {
   "display_name": "Python 3",
   "language": "python",
   "name": "python3"
  },
  "language_info": {
   "codemirror_mode": {
    "name": "ipython",
    "version": 3
   },
   "file_extension": ".py",
   "mimetype": "text/x-python",
   "name": "python",
   "nbconvert_exporter": "python",
   "pygments_lexer": "ipython3",
   "version": "3.7.3"
  }
 },
 "nbformat": 4,
 "nbformat_minor": 2
}
